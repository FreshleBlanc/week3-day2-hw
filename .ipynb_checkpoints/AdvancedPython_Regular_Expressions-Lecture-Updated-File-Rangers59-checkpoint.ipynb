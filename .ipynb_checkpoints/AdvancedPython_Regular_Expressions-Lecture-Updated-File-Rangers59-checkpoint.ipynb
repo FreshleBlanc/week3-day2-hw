{
 "cells": [
  {
   "cell_type": "markdown",
   "metadata": {},
   "source": [
    "# Regular Expressions"
   ]
  },
  {
   "cell_type": "markdown",
   "metadata": {},
   "source": [
    "# Tasks today:\n",
    "1) <b>Importing</b> <br>\n",
    "2) <b>Using Regular Expressions</b> <br>\n",
    " &nbsp;&nbsp;&nbsp;&nbsp; a) re.compile() <br>\n",
    " &nbsp;&nbsp;&nbsp;&nbsp; b) re.match() <br>\n",
    " &nbsp;&nbsp;&nbsp;&nbsp; c) re.findall() <br>\n",
    " &nbsp;&nbsp;&nbsp;&nbsp; d) re.search() <br>\n",
    "3) <b>Sets</b> <br>\n",
    " &nbsp;&nbsp;&nbsp;&nbsp; a) Integer Ranges <br>\n",
    " &nbsp;&nbsp;&nbsp;&nbsp; b) Character Ranges <br>\n",
    "4) <b>Counting Occurences</b> <br>\n",
    " &nbsp;&nbsp;&nbsp;&nbsp; a) {x} <br>\n",
    " &nbsp;&nbsp;&nbsp;&nbsp; b) {, x} <br>\n",
    " &nbsp;&nbsp;&nbsp;&nbsp; c) {?} <br>\n",
    " &nbsp;&nbsp;&nbsp;&nbsp; d) {*} <br>\n",
    " &nbsp;&nbsp;&nbsp;&nbsp; e) {+} <br>\n",
    "5) <b>In-Class Exercise #1</b> <br>\n",
    "6) <b>Escaping Characters</b> <br>\n",
    "7) <b>Grouping</b> <br>\n",
    "8) <b>In-Class Exercise #2</b> <br>\n",
    "9) <b>Opening a File</b> <br>\n",
    " &nbsp;&nbsp;&nbsp;&nbsp; a) open() <br>\n",
    " &nbsp;&nbsp;&nbsp;&nbsp; b) with open() <br>\n",
    " &nbsp;&nbsp;&nbsp;&nbsp; c) re.match() <br>\n",
    " &nbsp;&nbsp;&nbsp;&nbsp; d) re.search() <br>\n",
    " &nbsp;&nbsp;&nbsp;&nbsp; e) Store the String in a Variable <br>\n",
    "10) <b>Regex Project</b> <br>"
   ]
  },
  {
   "cell_type": "markdown",
   "metadata": {},
   "source": [
    "### Importing <br>\n",
    "<p>Regular Expressions are universal throughout most programming languages... They are generally imported through the module 're'.</p>"
   ]
  },
  {
   "cell_type": "code",
   "execution_count": 1,
   "metadata": {},
   "outputs": [],
   "source": [
    "# import re\n",
    "import re"
   ]
  },
  {
   "cell_type": "markdown",
   "metadata": {},
   "source": [
    "### Using Regular Expressions <br>\n",
    "<p>Regular expressions give us the ability to search for patterns within text, strings, files, etc. They serve several uses, such as; security measures, searching, filtering, pattern recognition, and more...</p>"
   ]
  },
  {
   "cell_type": "markdown",
   "metadata": {},
   "source": [
    "##### re.compile()"
   ]
  },
  {
   "cell_type": "code",
   "execution_count": 2,
   "metadata": {},
   "outputs": [],
   "source": [
    "# using compile, pre determines the string to be used in regular expression methods\n",
    "\n",
    "pattern = re.compile('abcd')"
   ]
  },
  {
   "cell_type": "markdown",
   "metadata": {},
   "source": [
    "##### re.match()"
   ]
  },
  {
   "cell_type": "code",
   "execution_count": 4,
   "metadata": {},
   "outputs": [
    {
     "name": "stdout",
     "output_type": "stream",
     "text": [
      "<re.Match object; span=(0, 4), match='abcd'>\n",
      "(0, 4)\n"
     ]
    }
   ],
   "source": [
    "match = pattern.match('abcd123')\n",
    "print(match)\n",
    "\n",
    "# Accessing the span of the match\n",
    "print(match.span())"
   ]
  },
  {
   "cell_type": "markdown",
   "metadata": {},
   "source": [
    "##### re.findall()"
   ]
  },
  {
   "cell_type": "code",
   "execution_count": 6,
   "metadata": {},
   "outputs": [
    {
     "name": "stdout",
     "output_type": "stream",
     "text": [
      "['abcd', 'abcd']\n",
      "Help on function findall in module re:\n",
      "\n",
      "findall(pattern, string, flags=0)\n",
      "    Return a list of all non-overlapping matches in the string.\n",
      "    \n",
      "    If one or more capturing groups are present in the pattern, return\n",
      "    a list of groups; this will be a list of tuples if the pattern\n",
      "    has more than one group.\n",
      "    \n",
      "    Empty matches are included in the result.\n",
      "\n"
     ]
    }
   ],
   "source": [
    "finders = pattern.findall('123abcd123 123 abcd acb abacbc213')\n",
    "print(finders)\n",
    "\n",
    "help(re.findall)"
   ]
  },
  {
   "cell_type": "markdown",
   "metadata": {},
   "source": [
    "##### re.search()"
   ]
  },
  {
   "cell_type": "code",
   "execution_count": 11,
   "metadata": {},
   "outputs": [
    {
     "name": "stdout",
     "output_type": "stream",
     "text": [
      "<re.Match object; span=(12, 16), match='abcd'>\n",
      "(12, 16)\n",
      "True\n"
     ]
    }
   ],
   "source": [
    "random_string = '123 123 234 abcd abc'\n",
    "\n",
    "\n",
    "search = pattern.search(random_string)\n",
    "print(search)\n",
    "\n",
    "print(search.span())\n",
    "\n",
    "print(isinstance(search.span(),tuple))"
   ]
  },
  {
   "cell_type": "markdown",
   "metadata": {},
   "source": [
    "### Sets <br>\n",
    "<p>The following cells will allow you to use regular expressions to search for certain values within a range such as numbers 1 through 4.</p>"
   ]
  },
  {
   "cell_type": "markdown",
   "metadata": {},
   "source": [
    "##### [a-z] or [A-Z] - any lowercase/uppercase letters from a to z<br/>[^2] - anything that's not 2"
   ]
  },
  {
   "cell_type": "markdown",
   "metadata": {},
   "source": [
    "##### Integer Ranges"
   ]
  },
  {
   "cell_type": "code",
   "execution_count": 16,
   "metadata": {},
   "outputs": [
    {
     "name": "stdout",
     "output_type": "stream",
     "text": [
      "<re.Match object; span=(0, 3), match='673'>\n",
      "<class 'tuple'>\n",
      "673\n",
      "['673', '783']\n"
     ]
    }
   ],
   "source": [
    "pattern_int = re.compile('[0-7][7-9][0-3]')\n",
    "\n",
    "random_number = pattern_int.search('67383')\n",
    "\n",
    "print(random_number)\n",
    "span= random_number.span()\n",
    "\n",
    "print(type(span))\n",
    "\n",
    "print(random_number[span[0]])\n",
    "\n",
    "find_randoms = pattern_int.findall('6730000783')\n",
    "\n",
    "print(find_randoms)\n"
   ]
  },
  {
   "cell_type": "markdown",
   "metadata": {},
   "source": [
    "##### Character Ranges"
   ]
  },
  {
   "cell_type": "code",
   "execution_count": 17,
   "metadata": {},
   "outputs": [
    {
     "name": "stdout",
     "output_type": "stream",
     "text": [
      "['He', 'Th', 'Mr', 'An']\n"
     ]
    }
   ],
   "source": [
    "char_pattern = re.compile('[A-Z][a-z]')\n",
    "\n",
    "found = char_pattern.findall('Hello There Mr Anderson')\n",
    "\n",
    "print(found)"
   ]
  },
  {
   "cell_type": "markdown",
   "metadata": {},
   "source": [
    "### Counting Occurences"
   ]
  },
  {
   "cell_type": "markdown",
   "metadata": {},
   "source": [
    "##### {x} - something that occurs {num_of_times}"
   ]
  },
  {
   "cell_type": "code",
   "execution_count": 23,
   "metadata": {},
   "outputs": [
    {
     "name": "stdout",
     "output_type": "stream",
     "text": [
      "['An33']\n"
     ]
    }
   ],
   "source": [
    "char_pattern_count = re.compile('[A-Z][a-z][0-3]{2}')\n",
    "\n",
    "found_count = char_pattern_count.findall('He1o Mr. An33derson')\n",
    "\n",
    "print(found_count)\n"
   ]
  },
  {
   "cell_type": "markdown",
   "metadata": {},
   "source": [
    "##### {x, x} - something that occurs between x and x times"
   ]
  },
  {
   "cell_type": "code",
   "execution_count": 22,
   "metadata": {},
   "outputs": [
    {
     "name": "stdout",
     "output_type": "stream",
     "text": [
      "['m', 'm', 'm', 'mmm', 'mmmmm']\n"
     ]
    }
   ],
   "source": [
    "random_string = 'This is an example of regular expression trying to find one m, more than one mmm or five mmmmms'\n",
    "\n",
    "\n",
    "random_pattern = re.compile('m{1,5}')\n",
    "\n",
    "found_ms = random_pattern.findall(random_string)\n",
    "\n",
    "\n",
    "print(found_ms)\n",
    "\n"
   ]
  },
  {
   "cell_type": "markdown",
   "metadata": {},
   "source": [
    "##### ? - something that occurs 0 or 1 time"
   ]
  },
  {
   "cell_type": "code",
   "execution_count": 24,
   "metadata": {},
   "outputs": [
    {
     "name": "stdout",
     "output_type": "stream",
     "text": [
      "['Mr', 'Mrs']\n"
     ]
    }
   ],
   "source": [
    "pattern = re.compile('Mrs?')\n",
    "\n",
    "found_pat = pattern.findall('Hello M there Mr. Anderson, How is Mrs. Anderson and Ms Anderson')\n",
    "\n",
    "print(found_pat)"
   ]
  },
  {
   "cell_type": "markdown",
   "metadata": {},
   "source": [
    "##### * - something that occurs at least 0 times"
   ]
  },
  {
   "cell_type": "code",
   "execution_count": 27,
   "metadata": {},
   "outputs": [
    {
     "name": "stdout",
     "output_type": "stream",
     "text": [
      "['MMMs', 's', 's', 's', 'Ms', 's', 's', 's', 's', 's']\n"
     ]
    }
   ],
   "source": [
    "m_string = 'MMMs name is Mr. Smith. This is Mssssss'\n",
    "\n",
    "pattern_m = re.compile('M*s')\n",
    "\n",
    "found_ms = pattern_m.findall(m_string)\n",
    "\n",
    "print(found_ms)"
   ]
  },
  {
   "cell_type": "markdown",
   "metadata": {},
   "source": [
    "##### + - something that occurs at least once"
   ]
  },
  {
   "cell_type": "code",
   "execution_count": null,
   "metadata": {},
   "outputs": [],
   "source": [
    "pattern_again = re.compile('M+s')\n",
    "\n",
    "found_patt = pattern_again.findall(m_string)\n",
    "\n",
    "print(found_patt)"
   ]
  },
  {
   "cell_type": "markdown",
   "metadata": {},
   "source": [
    "##### In-class exercise 1: \n",
    "\n",
    "Use a regular expression to find every number in the given string"
   ]
  },
  {
   "cell_type": "code",
   "execution_count": 32,
   "metadata": {},
   "outputs": [
    {
     "name": "stdout",
     "output_type": "stream",
     "text": [
      "['10909090', '21', '2']\n"
     ]
    }
   ],
   "source": [
    "random_string = \"This string has 10909090 numbers, but it is only 21 string. I hope you solve this 2day.\"\n",
    "\n",
    "finder = re.compile('[0-9]+')\n",
    "\n",
    "found_digits = finder.findall(random_string)\n",
    "\n",
    "print(found_digits)\n"
   ]
  },
  {
   "cell_type": "markdown",
   "metadata": {},
   "source": [
    "### Escaping Characters"
   ]
  },
  {
   "cell_type": "markdown",
   "metadata": {},
   "source": [
    "##### \\w - look for any Unicode character<br/>\\W - look for anything that isnt a Unicode character\n",
    "\n",
    "[History on Unicode](http://unicode.org/standard/WhatIsUnicode.html)\n",
    "\n",
    "[More on Unicode Characters](https://en.wikipedia.org/wiki/List_of_Unicode_characters)"
   ]
  },
  {
   "cell_type": "code",
   "execution_count": 37,
   "metadata": {},
   "outputs": [
    {
     "name": "stdout",
     "output_type": "stream",
     "text": [
      "[' ', ' ', ' ', ',', ' ', ' ', ' ', ' ', '!']\n"
     ]
    }
   ],
   "source": [
    "pattern = re.compile('[\\w]+')\n",
    "\n",
    "pattern2 = re.compile('[\\W]')\n",
    "\n",
    "found1 = pattern.findall('This is a sentence, with an exclamation mark!')\n",
    "\n",
    "#print(found1)\n",
    "\n",
    "found2 = pattern2.findall('This is a sentence, with an exclamation mark!')\n",
    "\n",
    "print(found2)"
   ]
  },
  {
   "cell_type": "markdown",
   "metadata": {},
   "source": [
    "##### \\d - look for any digit 0-9<br/>\\D - look for anything that isnt a digit"
   ]
  },
  {
   "cell_type": "code",
   "execution_count": 39,
   "metadata": {},
   "outputs": [
    {
     "name": "stdout",
     "output_type": "stream",
     "text": [
      "['Today is the ', 'th, ', ' days after the ', 'st.']\n"
     ]
    }
   ],
   "source": [
    "pattern_nums = re.compile('\\d{1,2}[a-z]{2}')\n",
    "\n",
    "\n",
    "pattern_nonums = re.compile('\\D+')\n",
    "\n",
    "found_date = pattern_nums.findall('Today is the 15th, 14 days after the 1st.')\n",
    "\n",
    "#print(found_date)\n",
    "\n",
    "print(pattern_nonums.findall('Today is the 15th, 14 days after the 1st.'))\n"
   ]
  },
  {
   "cell_type": "markdown",
   "metadata": {},
   "source": [
    "##### \\s - look for any white space<br/>\\S - look for anything that isnt whitespace"
   ]
  },
  {
   "cell_type": "code",
   "execution_count": 42,
   "metadata": {},
   "outputs": [
    {
     "name": "stdout",
     "output_type": "stream",
     "text": [
      "['Are', 'you', 'afraid', 'of', 'the', 'dark']\n",
      "[' ', ' ', ' ', '   ', '   ']\n"
     ]
    }
   ],
   "source": [
    "pattern_no_space = re.compile('\\S[a-z]+')\n",
    "\n",
    "found_dark = pattern_no_space.findall('Are you afraid of the dark?')\n",
    "\n",
    "print(found_dark)\n",
    "\n",
    "space_pattern = re.compile('\\s+')\n",
    "\n",
    "found_spaces = space_pattern.findall('Are you afraid of   the   dark')\n",
    "\n",
    "print(found_spaces)\n"
   ]
  },
  {
   "cell_type": "markdown",
   "metadata": {},
   "source": [
    "##### \\b - look for boundaries or edges of a word<br/>\\B - look for anything that isnt a boundary"
   ]
  },
  {
   "cell_type": "code",
   "execution_count": 44,
   "metadata": {},
   "outputs": [
    {
     "name": "stdout",
     "output_type": "stream",
     "text": [
      "['ThecodingTemple']\n"
     ]
    }
   ],
   "source": [
    "pattern_bound = re.compile(r'\\bThecodingTemple\\b')\n",
    "\n",
    "found_bound = pattern_bound.findall('ThecodingTemple')\n",
    "\n",
    "print(found_bound)\n",
    "\n",
    "\n",
    "pattern_no_bound = re.compile(r'\\B)"
   ]
  },
  {
   "cell_type": "markdown",
   "metadata": {},
   "source": [
    "### Grouping"
   ]
  },
  {
   "cell_type": "code",
   "execution_count": 52,
   "metadata": {},
   "outputs": [
    {
     "name": "stdout",
     "output_type": "stream",
     "text": [
      "[('Max', 'Smith'), ('Aaron', 'Rodgers'), ('Sam', 'Darnolds'), ('LeBron', 'James'), ('Miceal', 'Jordan'), ('Kevin', 'Durant'), ('Patrick', 'McCormick')]\n",
      "('Max', 'Smith')\n",
      "('Aaron', 'Rodgers')\n",
      "('Sam', 'Darnolds')\n",
      "('LeBron', 'James')\n",
      "('Miceal', 'Jordan')\n",
      "('Kevin', 'Durant')\n",
      "('Patrick', 'McCormick')\n"
     ]
    }
   ],
   "source": [
    "my_name_string = 'Max Smith, Aaron Rodgers, Sam Darnolds, LeBron James, Miceal Jordan, Kevin Durant, Patrick McCormick'\n",
    "\n",
    "pattern_name = re.compile('([A-Z][a-zA-Za-z]+) ([A-Z][a-zA-Z]+)')\n",
    "\n",
    "found_names = pattern_name.findall(my_name_string)\n",
    "\n",
    "print(found_names)\n",
    "\n",
    "for name in my_name_string.split(', '):\n",
    "    match = pattern_name.search(name)\n",
    "    if match:\n",
    "        print(match.groups(2))\n",
    "    else:\n",
    "        print('not a name')\n",
    "\n"
   ]
  },
  {
   "cell_type": "markdown",
   "metadata": {},
   "source": [
    "##### In-class Exercise 2:\n",
    "\n",
    "Write a function using regular expressions to find the domain name in the given email addresses (and return None for the invalid email addresses)<br><b>HINT: Use '|' for either or</b>"
   ]
  },
  {
   "cell_type": "code",
   "execution_count": 60,
   "metadata": {},
   "outputs": [
    {
     "name": "stdout",
     "output_type": "stream",
     "text": [
      "<re.Match object; span=(0, 24), match='jordanw@codingtemple.org'>\n",
      "bad email\n",
      "pocohontas1776@gmail.com is a vaild email\n",
      "bad email\n",
      "yourfavoriteband@g6.org is a vaild email\n",
      "bad email\n"
     ]
    }
   ],
   "source": [
    "my_emails = [\"jordanw@codingtemple.orgcom\", \"pocohontas1776@gmail.com\", \"helloworld@aol..com\",\n",
    "             \"yourfavoriteband@g6.org\", \"@codingtemple.com\"]\n",
    "\n",
    "# You can also use the $ at the end of your compile expression -- this stops the search\n",
    "\n",
    "#.com OR .org => com|org\n",
    "\n",
    "#Expected output:\n",
    "#None\n",
    "#pocohontas1776@gmail.com\n",
    "#None\n",
    "#yourfavoriteband@g6.org\n",
    "#None\n",
    "\n",
    "\n",
    "acceptable_emails = re.compile('([a-zA-Z0-9])+@([a-zA-Z0-9])+.(org|com)$')\n",
    "\n",
    "#found_emails = acceptable_emails.match('jordanw@codingtemple.orgcom')\n",
    "\n",
    "#print(found_emails)\n",
    "\n",
    "\n",
    "for email in my_emails:\n",
    "    if acceptable_emails.match(email):\n",
    "        print(f'{email} is a vaild email')\n",
    "\n",
    "    else:\n",
    "        print('bad email')\n",
    "    \n",
    "    \n",
    "    \n",
    "    \n",
    "    \n",
    "    \n"
   ]
  },
  {
   "cell_type": "markdown",
   "metadata": {},
   "source": [
    "### Opening a File <br>\n",
    "<p>Python gives us a couple ways to import files, below are the two used most often.</p>"
   ]
  },
  {
   "cell_type": "markdown",
   "metadata": {},
   "source": [
    "##### open()"
   ]
  },
  {
   "cell_type": "code",
   "execution_count": 65,
   "metadata": {},
   "outputs": [
    {
     "name": "stdout",
     "output_type": "stream",
     "text": [
      "Hawkins, Derek\tderek@codingtemple.com\t(555) 555-5555\tTeacher, Coding Temple\t@derekhawkins\n",
      "Zhai, Mo\tmozhai@codingtemple.com\t(555) 555-5554\tTeacher, Coding Temple\n",
      "Johnson, Joe\tjoejohnson@codingtemple.com\t\tJohson, Joe\n",
      "Osterberg, Sven-Erik\tgovernor@norrbotten.co.se\t\tGovernor, Norrbotten\t@sverik\n",
      ", Tim\ttim@killerrabbit.com\t\tEnchanter, Killer Rabbit Cave\n",
      "Butz, Ryan\tryanb@codingtemple.com\t(555) 555-5543\tCEO, Coding Temple\t@ryanbutz\n",
      "Doctor, The\tdoctor+companion@tardis.co.uk\t\tTime Lord, Gallifrey\n",
      "Exampleson, Example\tme@example.com\t555-555-5552\tExample, Example Co.\t@example\n",
      "Pael, Ripal\tripalp@codingtemple.com\t(555) 555-5553\tTeacher, Coding Temple\t@ripalp\n",
      "Vader, Darth\tdarth-vader@empire.gov\t(555) 555-4444\tSith Lord, Galactic Empire\t@darthvader\n",
      "Fernandez de la Vega Sanz, Maria Teresa\tmtfvs@spain.gov\t\tFirst Deputy Prime Minister, Spanish Gov\n",
      "\n"
     ]
    }
   ],
   "source": [
    "f = open(\"./names.txt\")\n",
    "\n",
    "data = f.read()\n",
    "\n",
    "print(data)\n",
    "\n",
    "f.close()"
   ]
  },
  {
   "cell_type": "markdown",
   "metadata": {},
   "source": [
    "##### with open()"
   ]
  },
  {
   "cell_type": "code",
   "execution_count": 66,
   "metadata": {},
   "outputs": [
    {
     "name": "stdout",
     "output_type": "stream",
     "text": [
      "Hawkins, Derek\tderek@codingtemple.com\t(555) 555-5555\tTeacher, Coding Temple\t@derekhawkins\n",
      "Zhai, Mo\tmozhai@codingtemple.com\t(555) 555-5554\tTeacher, Coding Temple\n",
      "Johnson, Joe\tjoejohnson@codingtemple.com\t\tJohson, Joe\n",
      "Osterberg, Sven-Erik\tgovernor@norrbotten.co.se\t\tGovernor, Norrbotten\t@sverik\n",
      ", Tim\ttim@killerrabbit.com\t\tEnchanter, Killer Rabbit Cave\n",
      "Butz, Ryan\tryanb@codingtemple.com\t(555) 555-5543\tCEO, Coding Temple\t@ryanbutz\n",
      "Doctor, The\tdoctor+companion@tardis.co.uk\t\tTime Lord, Gallifrey\n",
      "Exampleson, Example\tme@example.com\t555-555-5552\tExample, Example Co.\t@example\n",
      "Pael, Ripal\tripalp@codingtemple.com\t(555) 555-5553\tTeacher, Coding Temple\t@ripalp\n",
      "Vader, Darth\tdarth-vader@empire.gov\t(555) 555-4444\tSith Lord, Galactic Empire\t@darthvader\n",
      "Fernandez de la Vega Sanz, Maria Teresa\tmtfvs@spain.gov\t\tFirst Deputy Prime Minister, Spanish Gov\n",
      "\n"
     ]
    }
   ],
   "source": [
    "with open (\"./names.txt\") as f:\n",
    "    data = f.read()\n",
    "    print(data)"
   ]
  },
  {
   "cell_type": "markdown",
   "metadata": {},
   "source": [
    "##### re.match()"
   ]
  },
  {
   "cell_type": "code",
   "execution_count": 67,
   "metadata": {},
   "outputs": [
    {
     "name": "stdout",
     "output_type": "stream",
     "text": [
      "<re.Match object; span=(0, 14), match='Hawkins, Derek'>\n"
     ]
    }
   ],
   "source": [
    "print(re.match(r\"Hawkins, Derek\", data))"
   ]
  },
  {
   "cell_type": "markdown",
   "metadata": {},
   "source": [
    "##### re.search()"
   ]
  },
  {
   "cell_type": "code",
   "execution_count": 68,
   "metadata": {},
   "outputs": [
    {
     "name": "stdout",
     "output_type": "stream",
     "text": [
      "<re.Match object; span=(582, 605), match='ripalp@codingtemple.com'>\n"
     ]
    }
   ],
   "source": [
    "print(re.search(r\"ripalp@codingtemple.com\", data))"
   ]
  },
  {
   "cell_type": "markdown",
   "metadata": {},
   "source": [
    "##### Store the String to a Variable"
   ]
  },
  {
   "cell_type": "code",
   "execution_count": 71,
   "metadata": {},
   "outputs": [
    {
     "name": "stdout",
     "output_type": "stream",
     "text": [
      "what would you like to search for?....Johnson, Joe\n",
      "I found your data: ['Johnson, Joe']\n"
     ]
    }
   ],
   "source": [
    "answer = input(\"what would you like to search for?....\")\n",
    "\n",
    "found = re.findall(answer,data)\n",
    "\n",
    "if found:\n",
    "    print(f\"I found your data: {found}\")\n",
    "else:\n",
    "    print(\"It's no from me boss...\")\n",
    "\n"
   ]
  },
  {
   "cell_type": "markdown",
   "metadata": {},
   "source": [
    "### In-Class Exercise #3 <br>\n",
    "<p>Print each persons name and twitter handle, using groups, should look like:</p>\n",
    "<p>==============<br>\n",
    "   Full Name / Twitter<br>\n",
    "   ==============</p>\n",
    "Derek Hawkins / @derekhawkins\n",
    "\n",
    " Erik Sven-Osterberg / @sverik\n",
    "\n",
    " Ryan Butz / @ryanbutz\n",
    "\n",
    " Example Exampleson / @example\n",
    "\n",
    " Ripal Pael / @ripalp\n",
    "\n",
    " Darth Vader / @darthvader"
   ]
  },
  {
   "cell_type": "code",
   "execution_count": 80,
   "metadata": {
    "scrolled": true
   },
   "outputs": [
    {
     "name": "stdout",
     "output_type": "stream",
     "text": [
      "['Hawkins, Derek\\tderek@codingtemple.com\\t(555) 555-5555\\tTeacher, Coding Temple\\t@derekhawkins\\n', 'Zhai, Mo\\tmozhai@codingtemple.com\\t(555) 555-5554\\tTeacher, Coding Temple\\n', 'Johnson, Joe\\tjoejohnson@codingtemple.com\\t\\tJohson, Joe\\n', 'Osterberg, Sven-Erik\\tgovernor@norrbotten.co.se\\t\\tGovernor, Norrbotten\\t@sverik\\n', ', Tim\\ttim@killerrabbit.com\\t\\tEnchanter, Killer Rabbit Cave\\n', 'Butz, Ryan\\tryanb@codingtemple.com\\t(555) 555-5543\\tCEO, Coding Temple\\t@ryanbutz\\n', 'Doctor, The\\tdoctor+companion@tardis.co.uk\\t\\tTime Lord, Gallifrey\\n', 'Exampleson, Example\\tme@example.com\\t555-555-5552\\tExample, Example Co.\\t@example\\n', 'Pael, Ripal\\tripalp@codingtemple.com\\t(555) 555-5553\\tTeacher, Coding Temple\\t@ripalp\\n', 'Vader, Darth\\tdarth-vader@empire.gov\\t(555) 555-4444\\tSith Lord, Galactic Empire\\t@darthvader\\n', 'Fernandez de la Vega Sanz, Maria Teresa\\tmtfvs@spain.gov\\t\\tFirst Deputy Prime Minister, Spanish Gov\\n']\n"
     ]
    }
   ],
   "source": [
    "import re\n",
    "with open (\"./names.txt\") as f:\n",
    "    data = f.readlines()\n",
    "    print(data)"
   ]
  },
  {
   "cell_type": "code",
   "execution_count": 93,
   "metadata": {},
   "outputs": [
    {
     "name": "stdout",
     "output_type": "stream",
     "text": [
      "Hawkins, Derek / @derekhawkins\n",
      "Osterberg, Sven-Erik / @sverik\n",
      "Butz, Ryan / @ryanbutz\n",
      "Exampleson, Example / @example\n",
      "Pael, Ripal / @ripalp\n",
      "Vader, Darth / @darthvader\n"
     ]
    }
   ],
   "source": [
    "pattern_full_name = re.compile('([a-zA-Z]+), ([-a-zA-Z])+')\n",
    "\n",
    "pattern_twitter = re.compile(r'(?<=\\t)(@[a-zA-Z0-9]+)')\n",
    "\n",
    "for person in data:\n",
    "    \n",
    "    match = pattern_full_name.search(person)\n",
    "    twitter = pattern_twitter.search(person)\n",
    "    \n",
    "    if match and twitter:        \n",
    "        print(f'{match.group()} / {twitter.group()}')\n",
    "    "
   ]
  },
  {
   "cell_type": "code",
   "execution_count": null,
   "metadata": {},
   "outputs": [],
   "source": [
    "else:\n",
    "    print('N/A')\n",
    "    \n",
    "    \n",
    "    #example for hw below!!!"
   ]
  },
  {
   "cell_type": "code",
   "execution_count": null,
   "metadata": {},
   "outputs": [],
   "source": []
  },
  {
   "cell_type": "code",
   "execution_count": 77,
   "metadata": {},
   "outputs": [],
   "source": []
  },
  {
   "cell_type": "markdown",
   "metadata": {},
   "source": [
    "### Regex project\n",
    "\n",
    "Use python to read the file regex_test.txt and print the last name on each line using regular expressions and groups (return None for names with no first and last name, or names that aren't properly capitalized)\n",
    "##### Hint: use with open() and readlines()"
   ]
  },
  {
   "cell_type": "code",
   "execution_count": null,
   "metadata": {},
   "outputs": [],
   "source": [
    "\"\"\"\n",
    "Expected Output\n",
    "Abraham Lincoln\n",
    "Andrew P Garfield\n",
    "Connor Milliken\n",
    "Jordan Alexander Williams\n",
    "None\n",
    "None\n",
    "\"\"\""
   ]
  },
  {
   "cell_type": "code",
   "execution_count": 2,
   "metadata": {},
   "outputs": [
    {
     "name": "stdout",
     "output_type": "stream",
     "text": [
      "['Abraham Lincoln\\n', 'Andrew P Garfield\\n', 'Connor Milliken\\n', 'Jordan Alexander Williams\\n', 'Madonna\\n', 'programming is cool\\n']\n"
     ]
    }
   ],
   "source": [
    "import re\n",
    "with open (\"./regex_test.txt\") as f:\n",
    "    data = f.readlines()\n",
    "    print(data)"
   ]
  },
  {
   "cell_type": "code",
   "execution_count": 3,
   "metadata": {},
   "outputs": [
    {
     "name": "stdout",
     "output_type": "stream",
     "text": [
      "Abraham Lincoln\n",
      "Andrew P Garfield\n",
      "Connor Milliken\n",
      "Jordan Alexander Williams\n",
      "None\n",
      "None\n"
     ]
    }
   ],
   "source": [
    "#pattern_full_name = re.compile('([A-Z][a-zA-Za-z]+) ([A-Z][a-zA-Za-z]+)')\n",
    "\n",
    "pattern_full_name = re.compile('([A-Z][a-zA-Za-z]+) ([A-Za-zA-Z]+ )?([A-Z][a-zA-Za-z]+)')\n",
    "for person in data:\n",
    "    \n",
    "    match = pattern_full_name.search(person)\n",
    "    \n",
    "    if match:        \n",
    "        print(f'{match.group()}')\n",
    "    else:\n",
    "        print('None')\n"
   ]
  },
  {
   "cell_type": "code",
   "execution_count": null,
   "metadata": {},
   "outputs": [],
   "source": []
  }
 ],
 "metadata": {
  "kernelspec": {
   "display_name": "Python 3 (ipykernel)",
   "language": "python",
   "name": "python3"
  },
  "language_info": {
   "codemirror_mode": {
    "name": "ipython",
    "version": 3
   },
   "file_extension": ".py",
   "mimetype": "text/x-python",
   "name": "python",
   "nbconvert_exporter": "python",
   "pygments_lexer": "ipython3",
   "version": "3.9.13"
  }
 },
 "nbformat": 4,
 "nbformat_minor": 2
}
